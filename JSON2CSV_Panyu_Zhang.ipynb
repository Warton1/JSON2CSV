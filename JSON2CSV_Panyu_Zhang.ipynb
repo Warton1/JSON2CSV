{
 "cells": [
  {
   "cell_type": "code",
   "execution_count": 1,
   "metadata": {},
   "outputs": [],
   "source": [
    "import json \n",
    "import pandas as pd"
   ]
  },
  {
   "cell_type": "code",
   "execution_count": 2,
   "metadata": {},
   "outputs": [],
   "source": [
    "with open('Desktop/SheetC.json') as json_file: \n",
    "    data = json.load(json_file) "
   ]
  },
  {
   "cell_type": "code",
   "execution_count": 3,
   "metadata": {},
   "outputs": [],
   "source": [
    "# text = \"sample_item_index,item_material,is_frozen,grill_type,thumbs_up_score,guess_grill_correct\\n\"\n",
    "cols = ['sample_item_index','item_material','is_frozen','grill_type','thumbs_up_score','guess_grill_correct']\n",
    "sample_item_index = []\n",
    "item_material = []\n",
    "is_frozen = []\n",
    "grill_type = []\n",
    "thumbs_up_score = []\n",
    "guess_grill_correct = []\n",
    "\n",
    "str_test_result = data[0]['test_result']\n",
    "test_result = json.loads(str_test_result)\n",
    "for sample_item_id in test_result:\n",
    "    sample_item = test_result[sample_item_id]\n",
    "    sample_item_index.append(sample_item['sample_item_index'])\n",
    "    # meta data processing\n",
    "    meta_data = sample_item['meta_data']\n",
    "    grill_type.append(meta_data['grill_type'])\n",
    "    is_frozen.append(meta_data['is_frozen'])\n",
    "    item_material.append(meta_data['item_material'])\n",
    "    # survey result processing\n",
    "    survey_result = sample_item['survey_result']\n",
    "    guess_grill_correct.append(survey_result['guess_grill_correct'])\n",
    "    thumbs_up_score.append(survey_result['thumbs_up_score'])\n",
    "\n",
    "result_dict = pd.DataFrame({'sample_item_index': sample_item_index,\n",
    "               'item_material': item_material,\n",
    "               'is_frozen': is_frozen,\n",
    "               'grill_type': grill_type,\n",
    "               'thumbs_up_score': thumbs_up_score,\n",
    "               'guess_grill_correct': guess_grill_correct})\n",
    "result_dict.to_csv('Desktop/SheetC.csv', index = False)"
   ]
  },
  {
   "cell_type": "code",
   "execution_count": null,
   "metadata": {},
   "outputs": [],
   "source": []
  }
 ],
 "metadata": {
  "kernelspec": {
   "display_name": "Python 3",
   "language": "python",
   "name": "python3"
  },
  "language_info": {
   "codemirror_mode": {
    "name": "ipython",
    "version": 3
   },
   "file_extension": ".py",
   "mimetype": "text/x-python",
   "name": "python",
   "nbconvert_exporter": "python",
   "pygments_lexer": "ipython3",
   "version": "3.7.4"
  }
 },
 "nbformat": 4,
 "nbformat_minor": 4
}
